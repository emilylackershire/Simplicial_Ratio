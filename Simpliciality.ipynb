{
 "cells": [
  {
   "cell_type": "code",
   "execution_count": 1,
   "metadata": {},
   "outputs": [],
   "source": [
    "import numpy as np\n",
    "import xgi ## pip install xgi is required\n",
    "import simplicial as SR\n",
    "np.random.seed(321)\n"
   ]
  },
  {
   "cell_type": "markdown",
   "metadata": {},
   "source": [
    "# Computing simpliciality\n",
    "\n",
    "Below we compute the three simpliciality measures from https://epjdatascience.springeropen.com/articles/10.1140/epjds/s13688-024-00458-1:\n",
    "* SF: simplicial fraction\n",
    "* ES: edit simpliciality\n",
    "* FES: face edit simpliciality\n",
    "\n",
    "as well as the measure from https://arxiv.org/abs/2408.11806:\n",
    "* SR: simplicial ratio\n",
    "\n",
    "We only retain edges of size 2 to 11 inclusively.\n"
   ]
  },
  {
   "cell_type": "code",
   "execution_count": 2,
   "metadata": {},
   "outputs": [],
   "source": [
    "def compute_all(fn=\"\"):\n",
    "    print('\\033[1m'+'\\nResults for',fn)\n",
    "    H = xgi.load_xgi_data(fn).cleanup()\n",
    "    ## build edge list - remove duplicates and keep size < 12 only\n",
    "    E = [set(sorted(e)) for e in H.edges.members() if len(e)<=11 and len(e)>=2]\n",
    "    H = xgi.hypergraph.Hypergraph(E)\n",
    "    print('number of edges:',len(E))\n",
    "    print('SF:  %.2f'%xgi.simplicial_fraction(H),\n",
    "          '\\nES:  %.2f'%xgi.edit_simpliciality(H),\n",
    "          '\\nFES: %.2f'%xgi.face_edit_simpliciality(H))        \n",
    "    ## Simplicial ratio\n",
    "    S = SR.Simplicial(E)\n",
    "    print('SR: %.2f'%S.ratio)\n",
    "    "
   ]
  },
  {
   "cell_type": "markdown",
   "metadata": {},
   "source": [
    "## Datasets\n",
    "\n",
    "Those are the 10 datasets used in the above papers. \n",
    "Uncomment the first line to run all 10 (the last two take a few minutes to run).\n"
   ]
  },
  {
   "cell_type": "code",
   "execution_count": 3,
   "metadata": {
    "scrolled": false
   },
   "outputs": [
    {
     "name": "stdout",
     "output_type": "stream",
     "text": [
      "\u001b[1m\n",
      "Results for contact-primary-school\n",
      "number of edges: 12704\n",
      "SF:  0.85 \n",
      "ES:  0.88 \n",
      "FES: 0.94\n",
      "SR: 2.68\n",
      "\u001b[1m\n",
      "Results for contact-high-school\n",
      "number of edges: 7818\n",
      "SF:  0.81 \n",
      "ES:  0.91 \n",
      "FES: 0.92\n",
      "SR: 6.70\n",
      "\u001b[1m\n",
      "Results for hospital-lyon\n",
      "number of edges: 1824\n",
      "SF:  0.91 \n",
      "ES:  0.94 \n",
      "FES: 0.97\n",
      "SR: 0.95\n"
     ]
    }
   ],
   "source": [
    "## 10 datasets\n",
    "#Datasets = [\"contact-primary-school\", \"contact-high-school\", \"hospital-lyon\", \"email-enron\", \"email-eu\", \"diseasome\", \"disgenenet\", \"ndc-substances\", \"congress-bills\", \"tags-ask-ubuntu\"]\n",
    "\n",
    "## subset - 3 contact hypergraphs\n",
    "Datasets = [\"contact-primary-school\", \"contact-high-school\", \"hospital-lyon\"]\n",
    "\n",
    "for fn in Datasets:\n",
    "    compute_all(fn)\n",
    "    "
   ]
  },
  {
   "cell_type": "markdown",
   "metadata": {},
   "source": [
    "## Simplicial matrix and counts\n",
    "\n",
    "We can also look at the simplicial ratio (SR) separately for each combination of edge sizes.\n",
    "We illustrate this for one of the datasets used above.\n",
    "\n",
    "The upper triangle of matrices shown below contains respectively the simplicial ratio and the number of simplicial pairs for nodes of size $i$ and $j$ where $2 \\le i < j \\le 5$.\n"
   ]
  },
  {
   "cell_type": "code",
   "execution_count": 4,
   "metadata": {},
   "outputs": [
    {
     "name": "stdout",
     "output_type": "stream",
     "text": [
      "Simplicial matrix:\n",
      "[['0.0' '0.9' '0.9' '0.9']\n",
      " ['0.0' '0.0' '19.0' '14.3']\n",
      " ['0.0' '0.0' '0.0' '0.0']\n",
      " ['0.0' '0.0' '0.0' '0.0']]\n",
      "\n",
      "Simplicial counts:\n",
      "[['0.0' '>1k' '347' '20.0']\n",
      " ['0.0' '0.0' '190' '12.0']\n",
      " ['0.0' '0.0' '0.0' '0.0']\n",
      " ['0.0' '0.0' '0.0' '0.0']]\n"
     ]
    }
   ],
   "source": [
    "from utils import make_matrix_pretty\n",
    "\n",
    "fn = \"hospital-lyon\"\n",
    "H = xgi.load_xgi_data(fn)\n",
    "E = list(set([tuple(sorted(e)) for e in H.edges.members() if len(e)<=11 and len(e)>=2])) ## keep only edges of size 2 to 5\n",
    "E = [set(e) for e in E]\n",
    "\n",
    "print('Simplicial matrix:')\n",
    "X = SR.Simplicial(E)\n",
    "print(make_matrix_pretty(X.matrix))\n",
    "\n",
    "print('\\nSimplicial counts:')\n",
    "X = SR.Simplicial(E)\n",
    "print(make_matrix_pretty(X.counts))\n"
   ]
  },
  {
   "cell_type": "markdown",
   "metadata": {},
   "source": [
    "## Sample size\n",
    "\n",
    "Note that **sampling** is used when computing the simplicial ratio, so results can vary a little. The sample size can be set by the user as we show below.\n"
   ]
  },
  {
   "cell_type": "code",
   "execution_count": 5,
   "metadata": {},
   "outputs": [
    {
     "name": "stdout",
     "output_type": "stream",
     "text": [
      "SR: 0.98\n",
      "SR: 0.97\n"
     ]
    }
   ],
   "source": [
    "fn = \"hospital-lyon\"\n",
    "H = xgi.load_xgi_data(fn).cleanup()\n",
    "E = [set(sorted(e)) for e in H.edges.members() if len(e)<=11 and len(e)>=2]\n",
    "\n",
    "#E = list(set([tuple(sorted(e)) for e in H.edges.members() if len(e)<=11 and len(e)>=2])) ## keep only edges of size 2 to 5\n",
    "#E = [set(e) for e in E]\n",
    "\n",
    "## using default sample size 1000\n",
    "S = SR.Simplicial(E)\n",
    "print('SR: %.2f'%S.ratio)\n",
    "\n",
    "## using larger sample size 10000\n",
    "S = SR.Simplicial(E, top_edge_sample_size=10000)\n",
    "print('SR: %.2f'%S.ratio)\n"
   ]
  }
 ],
 "metadata": {
  "kernelspec": {
   "display_name": "complexnetworks",
   "language": "python",
   "name": "complexnetworks"
  },
  "language_info": {
   "codemirror_mode": {
    "name": "ipython",
    "version": 3
   },
   "file_extension": ".py",
   "mimetype": "text/x-python",
   "name": "python",
   "nbconvert_exporter": "python",
   "pygments_lexer": "ipython3",
   "version": "3.11.9"
  }
 },
 "nbformat": 4,
 "nbformat_minor": 4
}
